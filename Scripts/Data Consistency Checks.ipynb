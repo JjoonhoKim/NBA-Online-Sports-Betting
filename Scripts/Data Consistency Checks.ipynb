{
 "cells": [
  {
   "cell_type": "markdown",
   "id": "3426344f",
   "metadata": {},
   "source": [
    "# Importing Libraries"
   ]
  },
  {
   "cell_type": "code",
   "execution_count": 1,
   "id": "319e52b7",
   "metadata": {},
   "outputs": [],
   "source": [
    "#importing libraries\n",
    "import pandas as pd\n",
    "import numpy as np\n",
    "import os"
   ]
  },
  {
   "cell_type": "code",
   "execution_count": 3,
   "id": "4aa0845e",
   "metadata": {},
   "outputs": [],
   "source": [
    "path =r\"C:\\Users\\Akira\\Documents\\Advanced Analytics and Dashboard Design Project\""
   ]
  },
  {
   "cell_type": "code",
   "execution_count": 14,
   "id": "b374a588",
   "metadata": {},
   "outputs": [],
   "source": [
    "df_NBA = pd.read_csv(os.path.join(path, 'Data', 'Original Data', 'NBA.csv'),index_col = False)"
   ]
  },
  {
   "cell_type": "markdown",
   "id": "654f2612",
   "metadata": {},
   "source": [
    "## Data Profile"
   ]
  },
  {
   "cell_type": "code",
   "execution_count": 16,
   "id": "6e9cfaf0",
   "metadata": {},
   "outputs": [
    {
     "data": {
      "text/plain": [
       "player_name           object\n",
       "team_abbreviation     object\n",
       "age                    int64\n",
       "player_height        float64\n",
       "player_weight        float64\n",
       "college               object\n",
       "country               object\n",
       "draft_year            object\n",
       "draft_round           object\n",
       "draft_number          object\n",
       "gp                     int64\n",
       "pts                  float64\n",
       "reb                  float64\n",
       "ast                  float64\n",
       "net_rating           float64\n",
       "oreb_pct              object\n",
       "dreb_pct              object\n",
       "usg_pct               object\n",
       "ts_pct                object\n",
       "ast_pct               object\n",
       "season                object\n",
       "dtype: object"
      ]
     },
     "execution_count": 16,
     "metadata": {},
     "output_type": "execute_result"
    }
   ],
   "source": [
    "df_NBA.dtypes"
   ]
  },
  {
   "cell_type": "code",
   "execution_count": 17,
   "id": "241e3063",
   "metadata": {},
   "outputs": [
    {
     "data": {
      "text/plain": [
       "(12844, 21)"
      ]
     },
     "execution_count": 17,
     "metadata": {},
     "output_type": "execute_result"
    }
   ],
   "source": [
    "df_NBA.shape"
   ]
  },
  {
   "cell_type": "markdown",
   "id": "538a6cb1",
   "metadata": {},
   "source": [
    "## Data consistency checks"
   ]
  },
  {
   "cell_type": "markdown",
   "id": "7dadd3ab",
   "metadata": {},
   "source": [
    "### Mixed Data Types"
   ]
  },
  {
   "cell_type": "code",
   "execution_count": 12,
   "id": "3b8da77a",
   "metadata": {},
   "outputs": [
    {
     "name": "stdout",
     "output_type": "stream",
     "text": [
      "college\n"
     ]
    }
   ],
   "source": [
    "# Checking for mixed data types\n",
    "for col in df_NBA.columns.tolist():\n",
    "  weird = (df_NBA[[col]].map(type) != df_NBA[[col]].iloc[0].apply(type)).any(axis = 1)\n",
    "  if len (df_NBA[weird]) > 0:\n",
    "    print (col)"
   ]
  },
  {
   "cell_type": "markdown",
   "id": "0ee36483",
   "metadata": {},
   "source": [
    "When checking the data, it may seem like some colleges contain commas and parenthesis, but all of the colleges are present and written in a way that is understandable and consistent"
   ]
  },
  {
   "cell_type": "markdown",
   "id": "c89c253e",
   "metadata": {},
   "source": [
    "### Missing Data"
   ]
  },
  {
   "cell_type": "code",
   "execution_count": 13,
   "id": "6b708df7",
   "metadata": {
    "scrolled": true
   },
   "outputs": [
    {
     "data": {
      "text/plain": [
       "player_name             0\n",
       "team_abbreviation       0\n",
       "age                     0\n",
       "player_height           0\n",
       "player_weight           0\n",
       "college              1854\n",
       "country                 0\n",
       "draft_year              0\n",
       "draft_round             0\n",
       "draft_number            0\n",
       "gp                      0\n",
       "pts                     0\n",
       "reb                     0\n",
       "ast                     0\n",
       "net_rating              0\n",
       "oreb_pct                0\n",
       "dreb_pct                0\n",
       "usg_pct                 0\n",
       "ts_pct                  0\n",
       "ast_pct                 0\n",
       "season                  0\n",
       "dtype: int64"
      ]
     },
     "execution_count": 13,
     "metadata": {},
     "output_type": "execute_result"
    }
   ],
   "source": [
    "#Checking for missing data\n",
    "df_NBA.isnull().sum()"
   ]
  },
  {
   "cell_type": "code",
   "execution_count": 18,
   "id": "3f49cefb",
   "metadata": {},
   "outputs": [],
   "source": [
    "df_nan = df_NBA[df_NBA['college'].isnull() == True]"
   ]
  },
  {
   "cell_type": "code",
   "execution_count": 19,
   "id": "26b8d14a",
   "metadata": {},
   "outputs": [
    {
     "data": {
      "text/html": [
       "<div>\n",
       "<style scoped>\n",
       "    .dataframe tbody tr th:only-of-type {\n",
       "        vertical-align: middle;\n",
       "    }\n",
       "\n",
       "    .dataframe tbody tr th {\n",
       "        vertical-align: top;\n",
       "    }\n",
       "\n",
       "    .dataframe thead th {\n",
       "        text-align: right;\n",
       "    }\n",
       "</style>\n",
       "<table border=\"1\" class=\"dataframe\">\n",
       "  <thead>\n",
       "    <tr style=\"text-align: right;\">\n",
       "      <th></th>\n",
       "      <th>player_name</th>\n",
       "      <th>team_abbreviation</th>\n",
       "      <th>age</th>\n",
       "      <th>player_height</th>\n",
       "      <th>player_weight</th>\n",
       "      <th>college</th>\n",
       "      <th>country</th>\n",
       "      <th>draft_year</th>\n",
       "      <th>draft_round</th>\n",
       "      <th>draft_number</th>\n",
       "      <th>...</th>\n",
       "      <th>pts</th>\n",
       "      <th>reb</th>\n",
       "      <th>ast</th>\n",
       "      <th>net_rating</th>\n",
       "      <th>oreb_pct</th>\n",
       "      <th>dreb_pct</th>\n",
       "      <th>usg_pct</th>\n",
       "      <th>ts_pct</th>\n",
       "      <th>ast_pct</th>\n",
       "      <th>season</th>\n",
       "    </tr>\n",
       "  </thead>\n",
       "  <tbody>\n",
       "    <tr>\n",
       "      <th>6</th>\n",
       "      <td>Gheorghe Muresan</td>\n",
       "      <td>WAS</td>\n",
       "      <td>26</td>\n",
       "      <td>231.14</td>\n",
       "      <td>137.438376</td>\n",
       "      <td>NaN</td>\n",
       "      <td>USA</td>\n",
       "      <td>1993</td>\n",
       "      <td>2</td>\n",
       "      <td>30</td>\n",
       "      <td>...</td>\n",
       "      <td>10.6</td>\n",
       "      <td>6.6</td>\n",
       "      <td>0.4</td>\n",
       "      <td>6.9</td>\n",
       "      <td>10%</td>\n",
       "      <td>22%</td>\n",
       "      <td>19%</td>\n",
       "      <td>62%</td>\n",
       "      <td>10%</td>\n",
       "      <td>1996-97</td>\n",
       "    </tr>\n",
       "    <tr>\n",
       "      <th>72</th>\n",
       "      <td>Jermaine O'Neal</td>\n",
       "      <td>POR</td>\n",
       "      <td>18</td>\n",
       "      <td>210.82</td>\n",
       "      <td>102.511792</td>\n",
       "      <td>NaN</td>\n",
       "      <td>USA</td>\n",
       "      <td>1996</td>\n",
       "      <td>1</td>\n",
       "      <td>17</td>\n",
       "      <td>...</td>\n",
       "      <td>4.1</td>\n",
       "      <td>2.8</td>\n",
       "      <td>0.2</td>\n",
       "      <td>1.3</td>\n",
       "      <td>10%</td>\n",
       "      <td>20%</td>\n",
       "      <td>20%</td>\n",
       "      <td>49%</td>\n",
       "      <td>10%</td>\n",
       "      <td>1996-97</td>\n",
       "    </tr>\n",
       "    <tr>\n",
       "      <th>151</th>\n",
       "      <td>Dino Radja</td>\n",
       "      <td>BOS</td>\n",
       "      <td>30</td>\n",
       "      <td>210.82</td>\n",
       "      <td>102.058200</td>\n",
       "      <td>NaN</td>\n",
       "      <td>USA</td>\n",
       "      <td>1989</td>\n",
       "      <td>2</td>\n",
       "      <td>40</td>\n",
       "      <td>...</td>\n",
       "      <td>14.0</td>\n",
       "      <td>8.4</td>\n",
       "      <td>1.9</td>\n",
       "      <td>-3.3</td>\n",
       "      <td>6%</td>\n",
       "      <td>22%</td>\n",
       "      <td>23%</td>\n",
       "      <td>47%</td>\n",
       "      <td>6%</td>\n",
       "      <td>1996-97</td>\n",
       "    </tr>\n",
       "    <tr>\n",
       "      <th>205</th>\n",
       "      <td>Shane Heal</td>\n",
       "      <td>MIN</td>\n",
       "      <td>26</td>\n",
       "      <td>182.88</td>\n",
       "      <td>81.646560</td>\n",
       "      <td>NaN</td>\n",
       "      <td>USA</td>\n",
       "      <td>Undrafted</td>\n",
       "      <td>Undrafted</td>\n",
       "      <td>Undrafted</td>\n",
       "      <td>...</td>\n",
       "      <td>1.7</td>\n",
       "      <td>0.4</td>\n",
       "      <td>0.8</td>\n",
       "      <td>-0.7</td>\n",
       "      <td>1%</td>\n",
       "      <td>8%</td>\n",
       "      <td>20%</td>\n",
       "      <td>38%</td>\n",
       "      <td>1%</td>\n",
       "      <td>1996-97</td>\n",
       "    </tr>\n",
       "    <tr>\n",
       "      <th>219</th>\n",
       "      <td>Sasha Danilovic</td>\n",
       "      <td>DAL</td>\n",
       "      <td>27</td>\n",
       "      <td>198.12</td>\n",
       "      <td>90.718400</td>\n",
       "      <td>NaN</td>\n",
       "      <td>USA</td>\n",
       "      <td>1992</td>\n",
       "      <td>2</td>\n",
       "      <td>43</td>\n",
       "      <td>...</td>\n",
       "      <td>12.5</td>\n",
       "      <td>2.4</td>\n",
       "      <td>1.8</td>\n",
       "      <td>1.5</td>\n",
       "      <td>2%</td>\n",
       "      <td>7%</td>\n",
       "      <td>20%</td>\n",
       "      <td>55%</td>\n",
       "      <td>2%</td>\n",
       "      <td>1996-97</td>\n",
       "    </tr>\n",
       "    <tr>\n",
       "      <th>...</th>\n",
       "      <td>...</td>\n",
       "      <td>...</td>\n",
       "      <td>...</td>\n",
       "      <td>...</td>\n",
       "      <td>...</td>\n",
       "      <td>...</td>\n",
       "      <td>...</td>\n",
       "      <td>...</td>\n",
       "      <td>...</td>\n",
       "      <td>...</td>\n",
       "      <td>...</td>\n",
       "      <td>...</td>\n",
       "      <td>...</td>\n",
       "      <td>...</td>\n",
       "      <td>...</td>\n",
       "      <td>...</td>\n",
       "      <td>...</td>\n",
       "      <td>...</td>\n",
       "      <td>...</td>\n",
       "      <td>...</td>\n",
       "      <td>...</td>\n",
       "    </tr>\n",
       "    <tr>\n",
       "      <th>12787</th>\n",
       "      <td>Jaden Hardy</td>\n",
       "      <td>DAL</td>\n",
       "      <td>20</td>\n",
       "      <td>190.50</td>\n",
       "      <td>89.811216</td>\n",
       "      <td>NaN</td>\n",
       "      <td>USA</td>\n",
       "      <td>2022</td>\n",
       "      <td>2</td>\n",
       "      <td>37</td>\n",
       "      <td>...</td>\n",
       "      <td>8.8</td>\n",
       "      <td>1.9</td>\n",
       "      <td>1.4</td>\n",
       "      <td>-3.1</td>\n",
       "      <td>2%</td>\n",
       "      <td>11%</td>\n",
       "      <td>25%</td>\n",
       "      <td>57%</td>\n",
       "      <td>2%</td>\n",
       "      <td>2022-23</td>\n",
       "    </tr>\n",
       "    <tr>\n",
       "      <th>12799</th>\n",
       "      <td>Jonas Valanciunas</td>\n",
       "      <td>NOP</td>\n",
       "      <td>31</td>\n",
       "      <td>210.82</td>\n",
       "      <td>120.201880</td>\n",
       "      <td>NaN</td>\n",
       "      <td>Lithuania</td>\n",
       "      <td>2011</td>\n",
       "      <td>1</td>\n",
       "      <td>5</td>\n",
       "      <td>...</td>\n",
       "      <td>14.1</td>\n",
       "      <td>10.2</td>\n",
       "      <td>1.8</td>\n",
       "      <td>-0.7</td>\n",
       "      <td>12%</td>\n",
       "      <td>29%</td>\n",
       "      <td>23%</td>\n",
       "      <td>61%</td>\n",
       "      <td>12%</td>\n",
       "      <td>2022-23</td>\n",
       "    </tr>\n",
       "    <tr>\n",
       "      <th>12801</th>\n",
       "      <td>Jonathan Kuminga</td>\n",
       "      <td>GSW</td>\n",
       "      <td>20</td>\n",
       "      <td>200.66</td>\n",
       "      <td>102.058200</td>\n",
       "      <td>NaN</td>\n",
       "      <td>DRC</td>\n",
       "      <td>2021</td>\n",
       "      <td>1</td>\n",
       "      <td>7</td>\n",
       "      <td>...</td>\n",
       "      <td>9.9</td>\n",
       "      <td>3.4</td>\n",
       "      <td>1.9</td>\n",
       "      <td>-1.4</td>\n",
       "      <td>5%</td>\n",
       "      <td>11%</td>\n",
       "      <td>20%</td>\n",
       "      <td>60%</td>\n",
       "      <td>5%</td>\n",
       "      <td>2022-23</td>\n",
       "    </tr>\n",
       "    <tr>\n",
       "      <th>12811</th>\n",
       "      <td>Josh Giddey</td>\n",
       "      <td>OKC</td>\n",
       "      <td>20</td>\n",
       "      <td>203.20</td>\n",
       "      <td>97.975872</td>\n",
       "      <td>NaN</td>\n",
       "      <td>Australia</td>\n",
       "      <td>2021</td>\n",
       "      <td>1</td>\n",
       "      <td>6</td>\n",
       "      <td>...</td>\n",
       "      <td>16.6</td>\n",
       "      <td>7.9</td>\n",
       "      <td>6.2</td>\n",
       "      <td>-2.2</td>\n",
       "      <td>6%</td>\n",
       "      <td>19%</td>\n",
       "      <td>24%</td>\n",
       "      <td>53%</td>\n",
       "      <td>6%</td>\n",
       "      <td>2022-23</td>\n",
       "    </tr>\n",
       "    <tr>\n",
       "      <th>12837</th>\n",
       "      <td>Joe Ingles</td>\n",
       "      <td>MIL</td>\n",
       "      <td>35</td>\n",
       "      <td>205.74</td>\n",
       "      <td>99.790240</td>\n",
       "      <td>NaN</td>\n",
       "      <td>Australia</td>\n",
       "      <td>Undrafted</td>\n",
       "      <td>Undrafted</td>\n",
       "      <td>Undrafted</td>\n",
       "      <td>...</td>\n",
       "      <td>6.9</td>\n",
       "      <td>2.8</td>\n",
       "      <td>3.3</td>\n",
       "      <td>2.5</td>\n",
       "      <td>1%</td>\n",
       "      <td>10%</td>\n",
       "      <td>12%</td>\n",
       "      <td>62%</td>\n",
       "      <td>1%</td>\n",
       "      <td>2022-23</td>\n",
       "    </tr>\n",
       "  </tbody>\n",
       "</table>\n",
       "<p>1854 rows × 21 columns</p>\n",
       "</div>"
      ],
      "text/plain": [
       "             player_name team_abbreviation  age  player_height  player_weight  \\\n",
       "6       Gheorghe Muresan               WAS   26         231.14     137.438376   \n",
       "72       Jermaine O'Neal               POR   18         210.82     102.511792   \n",
       "151           Dino Radja               BOS   30         210.82     102.058200   \n",
       "205           Shane Heal               MIN   26         182.88      81.646560   \n",
       "219      Sasha Danilovic               DAL   27         198.12      90.718400   \n",
       "...                  ...               ...  ...            ...            ...   \n",
       "12787        Jaden Hardy               DAL   20         190.50      89.811216   \n",
       "12799  Jonas Valanciunas               NOP   31         210.82     120.201880   \n",
       "12801   Jonathan Kuminga               GSW   20         200.66     102.058200   \n",
       "12811        Josh Giddey               OKC   20         203.20      97.975872   \n",
       "12837         Joe Ingles               MIL   35         205.74      99.790240   \n",
       "\n",
       "      college    country draft_year draft_round draft_number  ...   pts   reb  \\\n",
       "6         NaN        USA       1993           2           30  ...  10.6   6.6   \n",
       "72        NaN        USA       1996           1           17  ...   4.1   2.8   \n",
       "151       NaN        USA       1989           2           40  ...  14.0   8.4   \n",
       "205       NaN        USA  Undrafted   Undrafted    Undrafted  ...   1.7   0.4   \n",
       "219       NaN        USA       1992           2           43  ...  12.5   2.4   \n",
       "...       ...        ...        ...         ...          ...  ...   ...   ...   \n",
       "12787     NaN        USA       2022           2           37  ...   8.8   1.9   \n",
       "12799     NaN  Lithuania       2011           1            5  ...  14.1  10.2   \n",
       "12801     NaN        DRC       2021           1            7  ...   9.9   3.4   \n",
       "12811     NaN  Australia       2021           1            6  ...  16.6   7.9   \n",
       "12837     NaN  Australia  Undrafted   Undrafted    Undrafted  ...   6.9   2.8   \n",
       "\n",
       "       ast  net_rating  oreb_pct dreb_pct usg_pct ts_pct ast_pct   season  \n",
       "6      0.4         6.9       10%      22%     19%    62%     10%  1996-97  \n",
       "72     0.2         1.3       10%      20%     20%    49%     10%  1996-97  \n",
       "151    1.9        -3.3        6%      22%     23%    47%      6%  1996-97  \n",
       "205    0.8        -0.7        1%       8%     20%    38%      1%  1996-97  \n",
       "219    1.8         1.5        2%       7%     20%    55%      2%  1996-97  \n",
       "...    ...         ...       ...      ...     ...    ...     ...      ...  \n",
       "12787  1.4        -3.1        2%      11%     25%    57%      2%  2022-23  \n",
       "12799  1.8        -0.7       12%      29%     23%    61%     12%  2022-23  \n",
       "12801  1.9        -1.4        5%      11%     20%    60%      5%  2022-23  \n",
       "12811  6.2        -2.2        6%      19%     24%    53%      6%  2022-23  \n",
       "12837  3.3         2.5        1%      10%     12%    62%      1%  2022-23  \n",
       "\n",
       "[1854 rows x 21 columns]"
      ]
     },
     "execution_count": 19,
     "metadata": {},
     "output_type": "execute_result"
    }
   ],
   "source": [
    "df_nan"
   ]
  },
  {
   "cell_type": "markdown",
   "id": "4fa3c8ce",
   "metadata": {},
   "source": [
    "The reason why python is reading missing values is because on the data it is listed as none. \n",
    "\n",
    "The reason for this is because the player either was drafted in high school or in an overseas league.\n",
    "\n",
    "This would be the best course of action to display this data\n"
   ]
  },
  {
   "cell_type": "markdown",
   "id": "06d196ef",
   "metadata": {},
   "source": [
    "### Duplicate Data"
   ]
  },
  {
   "cell_type": "code",
   "execution_count": 21,
   "id": "db046826",
   "metadata": {},
   "outputs": [],
   "source": [
    "# Checking for duplicates\n",
    "df_dups = df_NBA[df_NBA.duplicated()]"
   ]
  },
  {
   "cell_type": "code",
   "execution_count": 22,
   "id": "0163f1f8",
   "metadata": {
    "scrolled": true
   },
   "outputs": [
    {
     "data": {
      "text/html": [
       "<div>\n",
       "<style scoped>\n",
       "    .dataframe tbody tr th:only-of-type {\n",
       "        vertical-align: middle;\n",
       "    }\n",
       "\n",
       "    .dataframe tbody tr th {\n",
       "        vertical-align: top;\n",
       "    }\n",
       "\n",
       "    .dataframe thead th {\n",
       "        text-align: right;\n",
       "    }\n",
       "</style>\n",
       "<table border=\"1\" class=\"dataframe\">\n",
       "  <thead>\n",
       "    <tr style=\"text-align: right;\">\n",
       "      <th></th>\n",
       "      <th>player_name</th>\n",
       "      <th>team_abbreviation</th>\n",
       "      <th>age</th>\n",
       "      <th>player_height</th>\n",
       "      <th>player_weight</th>\n",
       "      <th>college</th>\n",
       "      <th>country</th>\n",
       "      <th>draft_year</th>\n",
       "      <th>draft_round</th>\n",
       "      <th>draft_number</th>\n",
       "      <th>...</th>\n",
       "      <th>pts</th>\n",
       "      <th>reb</th>\n",
       "      <th>ast</th>\n",
       "      <th>net_rating</th>\n",
       "      <th>oreb_pct</th>\n",
       "      <th>dreb_pct</th>\n",
       "      <th>usg_pct</th>\n",
       "      <th>ts_pct</th>\n",
       "      <th>ast_pct</th>\n",
       "      <th>season</th>\n",
       "    </tr>\n",
       "  </thead>\n",
       "  <tbody>\n",
       "  </tbody>\n",
       "</table>\n",
       "<p>0 rows × 21 columns</p>\n",
       "</div>"
      ],
      "text/plain": [
       "Empty DataFrame\n",
       "Columns: [player_name, team_abbreviation, age, player_height, player_weight, college, country, draft_year, draft_round, draft_number, gp, pts, reb, ast, net_rating, oreb_pct, dreb_pct, usg_pct, ts_pct, ast_pct, season]\n",
       "Index: []\n",
       "\n",
       "[0 rows x 21 columns]"
      ]
     },
     "execution_count": 22,
     "metadata": {},
     "output_type": "execute_result"
    }
   ],
   "source": [
    "df_dups"
   ]
  },
  {
   "cell_type": "markdown",
   "id": "562922ef",
   "metadata": {},
   "source": [
    "No duplicates were found"
   ]
  }
 ],
 "metadata": {
  "kernelspec": {
   "display_name": "Python 3 (ipykernel)",
   "language": "python",
   "name": "python3"
  },
  "language_info": {
   "codemirror_mode": {
    "name": "ipython",
    "version": 3
   },
   "file_extension": ".py",
   "mimetype": "text/x-python",
   "name": "python",
   "nbconvert_exporter": "python",
   "pygments_lexer": "ipython3",
   "version": "3.11.5"
  }
 },
 "nbformat": 4,
 "nbformat_minor": 5
}
